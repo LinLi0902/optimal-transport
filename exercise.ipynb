{
 "cells": [
  {
   "cell_type": "code",
   "execution_count": 3,
   "metadata": {},
   "outputs": [
    {
     "name": "stdout",
     "output_type": "stream",
     "text": [
      "     con: array([-6.28216035e-10, -5.13993514e-10, -3.80736498e-10, -3.80737386e-10,\n",
      "       -3.80735721e-10])\n",
      "     fun: 6.166666673669606\n",
      " message: 'Optimization terminated successfully.'\n",
      "     nit: 5\n",
      "   slack: array([], dtype=float64)\n",
      "  status: 0\n",
      " success: True\n",
      "       x: array([2.50000000e-01, 1.61592688e-10, 8.03642520e-11, 8.33333333e-02,\n",
      "       3.33333334e-01, 3.33333334e-01])\n"
     ]
    },
    {
     "name": "stderr",
     "output_type": "stream",
     "text": [
      "/var/folders/0p/l_dk4sf520z6spsd916vg0sr0000gn/T/ipykernel_58672/62102952.py:8: OptimizeWarning: A_eq does not appear to be of full row rank. To improve performance, check the problem formulation for redundant equality constraints.\n",
      "  r=linprog(t,A_ub=None,b_ub=None,A_eq=A_eq,b_eq=b_eq,bounds=((0,None),(0,None),(0,None),(0,None),(0,None),(0,None)))\n"
     ]
    }
   ],
   "source": [
    "import numpy as np\n",
    "from scipy.optimize import linprog\n",
    "\n",
    "t=np.array([5,6,9,7,6,7])\n",
    "A_eq = np.array([[1,1,1,0,0,0],[0,0,0,1,1,1],[1,0,0,1,0,0],[0,1,0,0,1,0],[0,0,1,0,0,1]])\n",
    "b_eq=np.array([1/4,3/4,1/3,1/3,1/3])\n",
    "\n",
    "r=linprog(t,A_ub=None,b_ub=None,A_eq=A_eq,b_eq=b_eq,bounds=((0,None),(0,None),(0,None),(0,None),(0,None),(0,None)))\n",
    "\n",
    "print(r)\n",
    "#print(r.x)"
   ]
  }
 ],
 "metadata": {
  "kernelspec": {
   "display_name": "Python 3",
   "language": "python",
   "name": "python3"
  },
  "language_info": {
   "codemirror_mode": {
    "name": "ipython",
    "version": 3
   },
   "file_extension": ".py",
   "mimetype": "text/x-python",
   "name": "python",
   "nbconvert_exporter": "python",
   "pygments_lexer": "ipython3",
   "version": "3.9.7"
  }
 },
 "nbformat": 4,
 "nbformat_minor": 4
}
